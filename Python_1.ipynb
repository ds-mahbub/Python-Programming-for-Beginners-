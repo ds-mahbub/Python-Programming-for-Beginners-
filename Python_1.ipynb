{
  "nbformat": 4,
  "nbformat_minor": 0,
  "metadata": {
    "colab": {
      "provenance": []
    },
    "kernelspec": {
      "name": "python3",
      "display_name": "Python 3"
    },
    "language_info": {
      "name": "python"
    }
  },
  "cells": [
    {
      "cell_type": "code",
      "execution_count": 1,
      "metadata": {
        "colab": {
          "base_uri": "https://localhost:8080/"
        },
        "id": "_GqRhUASDg4v",
        "outputId": "e926c4be-be52-4a29-af3e-e83a71c83928"
      },
      "outputs": [
        {
          "output_type": "stream",
          "name": "stdout",
          "text": [
            "Hello World\n"
          ]
        }
      ],
      "source": [
        "print(\"Hello World\")"
      ]
    },
    {
      "cell_type": "markdown",
      "source": [
        "# **Application of python**\n",
        "\n",
        "\n",
        "*   Web Development\n",
        "*  Data science\n",
        "* Machine Learning\n",
        "* AI\n",
        "* Data Analysis\n",
        "\n"
      ],
      "metadata": {
        "id": "xgZA5_-SEAKj"
      }
    },
    {
      "cell_type": "code",
      "source": [
        "# now we will learn about data types in python\n",
        "# 1. Integer ex: 1, 2, 3, 4,5....etc.\n",
        "# 2. String ex: 'Mahbub', 'Dhaka'\n",
        "# 3. float ex: 1.2, 0.5, 2.3...etc.\n",
        "# 4. Boolean ex: True | False\n",
        "print('Hello World')\n",
        "print('Hello World')\n",
        "print(123)"
      ],
      "metadata": {
        "colab": {
          "base_uri": "https://localhost:8080/"
        },
        "id": "Kwqdu61wDz5m",
        "outputId": "e2c4ec12-cc5f-4c50-a017-1c2a9231c4e2"
      },
      "execution_count": 2,
      "outputs": [
        {
          "output_type": "stream",
          "name": "stdout",
          "text": [
            "Hello World\n",
            "Hello World\n",
            "123\n"
          ]
        }
      ]
    },
    {
      "cell_type": "code",
      "source": [
        "my_list= [1,2,3] # snake_case\n",
        "myList = [3,4,5] # camelCase\n",
        "MyList = [5,6,8] # PascalCase"
      ],
      "metadata": {
        "id": "n3ZOMS0wGG-I"
      },
      "execution_count": 3,
      "outputs": []
    },
    {
      "cell_type": "code",
      "source": [
        "myList"
      ],
      "metadata": {
        "colab": {
          "base_uri": "https://localhost:8080/"
        },
        "id": "2H_C-9w-Hum3",
        "outputId": "d44c0a2f-f88d-4a0a-f4bf-3cbecc45b684"
      },
      "execution_count": 4,
      "outputs": [
        {
          "output_type": "execute_result",
          "data": {
            "text/plain": [
              "[3, 4, 5]"
            ]
          },
          "metadata": {},
          "execution_count": 4
        }
      ]
    },
    {
      "cell_type": "code",
      "source": [
        "# A newly born baby admitted into hospital due to fever in 2023. During admission it's weigt was 4.5kg\n",
        "admission_year = 2023 #int\n",
        "is_admitted = True # bool\n",
        "weight = 4.5 # float\n",
        "patient_type = 'fever' #string"
      ],
      "metadata": {
        "id": "pQKiIKJyHxGw"
      },
      "execution_count": 5,
      "outputs": []
    },
    {
      "cell_type": "code",
      "source": [
        "print('admission_year')\n",
        "print(weight)"
      ],
      "metadata": {
        "colab": {
          "base_uri": "https://localhost:8080/"
        },
        "id": "i1EbdWvxI9fD",
        "outputId": "15adefb8-d66e-42c7-c7c0-ad4115428e19"
      },
      "execution_count": 9,
      "outputs": [
        {
          "output_type": "stream",
          "name": "stdout",
          "text": [
            "admission_year\n",
            "4.5\n"
          ]
        }
      ]
    },
    {
      "cell_type": "code",
      "source": [
        "num1 = input(\"Please enter your name:\\n \")\n",
        "# mail =\n",
        "# institute=\n",
        "# contact =\n",
        "# age =\n",
        "\n",
        "msg = 'Hello' + '! '+ num1 + ' Welcome to data science batch'\n",
        "print(msg)"
      ],
      "metadata": {
        "colab": {
          "base_uri": "https://localhost:8080/"
        },
        "id": "bNHcaFeTJP2u",
        "outputId": "53a56d5f-bfd3-4d83-ae03-bb79147c4db0"
      },
      "execution_count": 15,
      "outputs": [
        {
          "output_type": "stream",
          "name": "stdout",
          "text": [
            "Please enter your name:\n",
            " 23\n",
            "Hello! 23 Welcome to data science batch\n"
          ]
        }
      ]
    },
    {
      "cell_type": "code",
      "source": [
        "num1 = float(input('please enter a num: '))\n",
        "num2 = float(input('please enter another num: '))\n",
        "sum = num1 + num2\n",
        "print('the sum of num1 and num2 is:',sum)"
      ],
      "metadata": {
        "colab": {
          "base_uri": "https://localhost:8080/"
        },
        "id": "x1xOLiOvKbX4",
        "outputId": "038d2e32-910c-4657-8f2b-265e5e86a924"
      },
      "execution_count": 20,
      "outputs": [
        {
          "output_type": "stream",
          "name": "stdout",
          "text": [
            "please enter a num: 1\n",
            "please enter another num: 1.2\n",
            "the sum of num1 and num2 is: 2.2\n"
          ]
        }
      ]
    },
    {
      "cell_type": "code",
      "source": [
        "a = '5'\n",
        "b = '6'\n",
        "a+b"
      ],
      "metadata": {
        "colab": {
          "base_uri": "https://localhost:8080/",
          "height": 35
        },
        "id": "WLyLiPheLIyv",
        "outputId": "2c8a15b2-dd2b-46b3-d620-0a2ce8387e5e"
      },
      "execution_count": 18,
      "outputs": [
        {
          "output_type": "execute_result",
          "data": {
            "text/plain": [
              "'56'"
            ],
            "application/vnd.google.colaboratory.intrinsic+json": {
              "type": "string"
            }
          },
          "metadata": {},
          "execution_count": 18
        }
      ]
    },
    {
      "cell_type": "code",
      "source": [
        "msg = 'Hello Bangladesh'\n",
        "len(msg)"
      ],
      "metadata": {
        "colab": {
          "base_uri": "https://localhost:8080/"
        },
        "id": "L4DgL0pjLoKh",
        "outputId": "caee4543-fe1c-4b03-d315-d06bdf4d6f1b"
      },
      "execution_count": 21,
      "outputs": [
        {
          "output_type": "execute_result",
          "data": {
            "text/plain": [
              "16"
            ]
          },
          "metadata": {},
          "execution_count": 21
        }
      ]
    },
    {
      "cell_type": "code",
      "source": [
        "msg = 'FAHIM faysal'\n",
        "len(msg)"
      ],
      "metadata": {
        "colab": {
          "base_uri": "https://localhost:8080/"
        },
        "id": "RQx1dFF5MmNH",
        "outputId": "40eed0a0-8d93-4a5b-caa0-bcc8bfa91fc6"
      },
      "execution_count": 27,
      "outputs": [
        {
          "output_type": "execute_result",
          "data": {
            "text/plain": [
              "12"
            ]
          },
          "metadata": {},
          "execution_count": 27
        }
      ]
    },
    {
      "cell_type": "code",
      "source": [
        "print(msg[:5]) #stop + 1"
      ],
      "metadata": {
        "colab": {
          "base_uri": "https://localhost:8080/"
        },
        "id": "krNVKUCVMrc6",
        "outputId": "5923046f-f190-49f4-8c70-7f36e737c4bd"
      },
      "execution_count": 29,
      "outputs": [
        {
          "output_type": "stream",
          "name": "stdout",
          "text": [
            "Fahim\n"
          ]
        }
      ]
    },
    {
      "cell_type": "code",
      "source": [
        "# method\n",
        "# lowercase\n",
        "print(msg.lower())"
      ],
      "metadata": {
        "colab": {
          "base_uri": "https://localhost:8080/"
        },
        "id": "0x0RFjvvNc12",
        "outputId": "69add8b1-34e3-4213-c839-19481af1c434"
      },
      "execution_count": 30,
      "outputs": [
        {
          "output_type": "stream",
          "name": "stdout",
          "text": [
            "fahim faysal\n"
          ]
        }
      ]
    },
    {
      "cell_type": "code",
      "source": [
        "# method\n",
        "# uppercase\n",
        "print(msg.upper())"
      ],
      "metadata": {
        "colab": {
          "base_uri": "https://localhost:8080/"
        },
        "id": "qaDKHGtbN75Z",
        "outputId": "b905fc8d-f716-464c-db8c-5533c67f0e49"
      },
      "execution_count": 31,
      "outputs": [
        {
          "output_type": "stream",
          "name": "stdout",
          "text": [
            "FAHIM FAYSAL\n"
          ]
        }
      ]
    },
    {
      "cell_type": "code",
      "source": [
        "#count method\n",
        "print(msg.count('a'))"
      ],
      "metadata": {
        "colab": {
          "base_uri": "https://localhost:8080/"
        },
        "id": "pIsNx0imOC52",
        "outputId": "5a837cd6-c077-4296-afc1-5ca42392ca0f"
      },
      "execution_count": 32,
      "outputs": [
        {
          "output_type": "stream",
          "name": "stdout",
          "text": [
            "3\n"
          ]
        }
      ]
    },
    {
      "cell_type": "code",
      "source": [
        "name = 'Bangladesh'\n",
        "print(name.count('a'))\n"
      ],
      "metadata": {
        "colab": {
          "base_uri": "https://localhost:8080/"
        },
        "id": "ayU5EmYXOTAK",
        "outputId": "7e660a9c-96f3-4c95-b272-610b96b2b5c3"
      },
      "execution_count": 34,
      "outputs": [
        {
          "output_type": "stream",
          "name": "stdout",
          "text": [
            "2\n"
          ]
        }
      ]
    },
    {
      "cell_type": "code",
      "source": [
        "print(name.find('de'))"
      ],
      "metadata": {
        "colab": {
          "base_uri": "https://localhost:8080/"
        },
        "id": "EPIaxqNcOtU9",
        "outputId": "79052f0e-a8e8-4295-dad5-e05ff90cc10e"
      },
      "execution_count": 39,
      "outputs": [
        {
          "output_type": "stream",
          "name": "stdout",
          "text": [
            "6\n"
          ]
        }
      ]
    },
    {
      "cell_type": "code",
      "source": [
        "#replace\n",
        "msg"
      ],
      "metadata": {
        "colab": {
          "base_uri": "https://localhost:8080/",
          "height": 35
        },
        "id": "V0LyhBM5O0l9",
        "outputId": "e7cbcdd0-1b13-465a-a2c0-a5546b4405e6"
      },
      "execution_count": 40,
      "outputs": [
        {
          "output_type": "execute_result",
          "data": {
            "text/plain": [
              "'Fahim Faysal'"
            ],
            "application/vnd.google.colaboratory.intrinsic+json": {
              "type": "string"
            }
          },
          "metadata": {},
          "execution_count": 40
        }
      ]
    },
    {
      "cell_type": "code",
      "source": [
        "new_name = msg.replace('Faysal', 'Al')\n",
        "print(new_name)"
      ],
      "metadata": {
        "colab": {
          "base_uri": "https://localhost:8080/"
        },
        "id": "jlrAD26TPenI",
        "outputId": "a8c24226-e660-4819-b0ee-748fe4df47f3"
      },
      "execution_count": 41,
      "outputs": [
        {
          "output_type": "stream",
          "name": "stdout",
          "text": [
            "Fahim Al\n"
          ]
        }
      ]
    },
    {
      "cell_type": "code",
      "source": [
        "FullName = new_name + ' Faysal'\n",
        "FullName"
      ],
      "metadata": {
        "colab": {
          "base_uri": "https://localhost:8080/",
          "height": 35
        },
        "id": "XEzLFcDXP1lZ",
        "outputId": "0c45e994-1ebc-4136-bba5-0b7ebd67ab16"
      },
      "execution_count": 44,
      "outputs": [
        {
          "output_type": "execute_result",
          "data": {
            "text/plain": [
              "'Fahim Al Faysal'"
            ],
            "application/vnd.google.colaboratory.intrinsic+json": {
              "type": "string"
            }
          },
          "metadata": {},
          "execution_count": 44
        }
      ]
    },
    {
      "cell_type": "code",
      "source": [
        "# f_string\n",
        "firstName = 'Fahim'\n",
        "middleName = 'Al'\n",
        "lastName = 'Foysal'\n",
        "\n",
        "fullName = '{} {} {}, welcome to Dubai'.format(middleName, firstName, lastName)\n",
        "print(fullName)"
      ],
      "metadata": {
        "colab": {
          "base_uri": "https://localhost:8080/"
        },
        "id": "CwEYqOl7QIXZ",
        "outputId": "333a9bde-b2c2-4499-dd85-03eea8944db3"
      },
      "execution_count": 48,
      "outputs": [
        {
          "output_type": "stream",
          "name": "stdout",
          "text": [
            "Al Fahim Foysal, welcome to Dubai\n"
          ]
        }
      ]
    },
    {
      "cell_type": "code",
      "source": [
        "FullName = f'{firstName} {middleName} {lastName}, Welcome to Dubai!'\n",
        "FullName"
      ],
      "metadata": {
        "colab": {
          "base_uri": "https://localhost:8080/",
          "height": 35
        },
        "id": "3Q8HbeytRN5H",
        "outputId": "246ae0a5-ddc4-4a94-ae54-a8cb5774bb14"
      },
      "execution_count": 51,
      "outputs": [
        {
          "output_type": "execute_result",
          "data": {
            "text/plain": [
              "'Fahim Al Foysal, Welcome to Dubai!'"
            ],
            "application/vnd.google.colaboratory.intrinsic+json": {
              "type": "string"
            }
          },
          "metadata": {},
          "execution_count": 51
        }
      ]
    },
    {
      "cell_type": "code",
      "source": [
        "# BODMAS = Brackets(){}[], OF, Division, Multiplication, Addition, Subtraction\n",
        "# PEMDAS = Parenthesis, Exponent, Multiplication, Division, Addition, Subtraction\n",
        "\n",
        "# (2+3)**2 * 2 / 2 + 5 - 30\n",
        "# 5**2/2+5-30\n",
        "# 25*2/2+5-30\n",
        "# 50/2+5-30\n",
        "# 25+5-30\n",
        "# 30-30\n",
        "# 0"
      ],
      "metadata": {
        "colab": {
          "base_uri": "https://localhost:8080/"
        },
        "id": "oaTFpGU-R7rI",
        "outputId": "447ebaba-9155-4e67-a9e5-8d57f3f68d1c"
      },
      "execution_count": 52,
      "outputs": [
        {
          "output_type": "execute_result",
          "data": {
            "text/plain": [
              "0.0"
            ]
          },
          "metadata": {},
          "execution_count": 52
        }
      ]
    },
    {
      "cell_type": "code",
      "source": [
        "# %, //\n",
        "print(25 % 3) # remainder\n",
        "print(25//3)"
      ],
      "metadata": {
        "colab": {
          "base_uri": "https://localhost:8080/"
        },
        "id": "9HnKO0mOTsOx",
        "outputId": "e2c8dd76-9629-458c-8558-b4c456634538"
      },
      "execution_count": 54,
      "outputs": [
        {
          "output_type": "stream",
          "name": "stdout",
          "text": [
            "1\n",
            "8\n"
          ]
        }
      ]
    },
    {
      "cell_type": "code",
      "source": [
        "x = -4.49"
      ],
      "metadata": {
        "id": "CLYtyF7RUUKi"
      },
      "execution_count": 67,
      "outputs": []
    },
    {
      "cell_type": "code",
      "source": [
        "print(x)"
      ],
      "metadata": {
        "colab": {
          "base_uri": "https://localhost:8080/"
        },
        "id": "zBBJ4tuSVT0s",
        "outputId": "d5180b20-4f5a-49ec-8d3d-5137a05e759e"
      },
      "execution_count": 68,
      "outputs": [
        {
          "output_type": "stream",
          "name": "stdout",
          "text": [
            "-4.49\n"
          ]
        }
      ]
    },
    {
      "cell_type": "code",
      "source": [
        "print(abs(x))"
      ],
      "metadata": {
        "colab": {
          "base_uri": "https://localhost:8080/"
        },
        "id": "HnAPzmM-VUxl",
        "outputId": "947289e7-8742-4e22-9c82-b9e00055eb9d"
      },
      "execution_count": 69,
      "outputs": [
        {
          "output_type": "stream",
          "name": "stdout",
          "text": [
            "4.49\n"
          ]
        }
      ]
    },
    {
      "cell_type": "code",
      "source": [
        "2**3"
      ],
      "metadata": {
        "colab": {
          "base_uri": "https://localhost:8080/"
        },
        "id": "am-gbEZDV_-n",
        "outputId": "a38909a0-5860-4b5d-8c12-767933f3e52c"
      },
      "execution_count": 70,
      "outputs": [
        {
          "output_type": "execute_result",
          "data": {
            "text/plain": [
              "8"
            ]
          },
          "metadata": {},
          "execution_count": 70
        }
      ]
    },
    {
      "cell_type": "code",
      "source": [
        "print(pow(2, 3))"
      ],
      "metadata": {
        "colab": {
          "base_uri": "https://localhost:8080/"
        },
        "id": "NWANwUTzWoOy",
        "outputId": "7b9b82fe-9c5b-43f7-9f1f-0d9799a51708"
      },
      "execution_count": 71,
      "outputs": [
        {
          "output_type": "stream",
          "name": "stdout",
          "text": [
            "8\n"
          ]
        }
      ]
    },
    {
      "cell_type": "code",
      "source": [
        "import math"
      ],
      "metadata": {
        "id": "2MpZ5moAWvNW"
      },
      "execution_count": 74,
      "outputs": []
    },
    {
      "cell_type": "code",
      "source": [
        "5*4*3*2*1"
      ],
      "metadata": {
        "colab": {
          "base_uri": "https://localhost:8080/"
        },
        "id": "QfUvNywvXESx",
        "outputId": "25d34478-9096-4a3e-f2d0-41d153174824"
      },
      "execution_count": 75,
      "outputs": [
        {
          "output_type": "execute_result",
          "data": {
            "text/plain": [
              "120"
            ]
          },
          "metadata": {},
          "execution_count": 75
        }
      ]
    },
    {
      "cell_type": "code",
      "source": [
        "math.factorial(5)"
      ],
      "metadata": {
        "colab": {
          "base_uri": "https://localhost:8080/"
        },
        "id": "nSGZuC4jXMO9",
        "outputId": "ef6e8cbf-9a77-4950-af96-f314227dc9eb"
      },
      "execution_count": 79,
      "outputs": [
        {
          "output_type": "execute_result",
          "data": {
            "text/plain": [
              "120"
            ]
          },
          "metadata": {},
          "execution_count": 79
        }
      ]
    },
    {
      "cell_type": "code",
      "source": [
        "#lcm = lowest common multiple # লসাগু\n",
        "#gcd = greatest common divisor # গসাগু\n",
        "math.lcm(5, 25)"
      ],
      "metadata": {
        "colab": {
          "base_uri": "https://localhost:8080/"
        },
        "id": "BgSJmipRXV4-",
        "outputId": "2a7aa7b1-bf55-4233-9f57-03a944690ca8"
      },
      "execution_count": 80,
      "outputs": [
        {
          "output_type": "execute_result",
          "data": {
            "text/plain": [
              "25"
            ]
          },
          "metadata": {},
          "execution_count": 80
        }
      ]
    },
    {
      "cell_type": "code",
      "source": [
        "math.gcd(5, 25)"
      ],
      "metadata": {
        "colab": {
          "base_uri": "https://localhost:8080/"
        },
        "id": "dJD0FFmBXpXV",
        "outputId": "037f6d2c-f0d0-4faa-c0b0-22d8e0eea913"
      },
      "execution_count": 81,
      "outputs": [
        {
          "output_type": "execute_result",
          "data": {
            "text/plain": [
              "5"
            ]
          },
          "metadata": {},
          "execution_count": 81
        }
      ]
    },
    {
      "cell_type": "code",
      "source": [],
      "metadata": {
        "id": "hcbyp7O1Xspj"
      },
      "execution_count": null,
      "outputs": []
    }
  ]
}