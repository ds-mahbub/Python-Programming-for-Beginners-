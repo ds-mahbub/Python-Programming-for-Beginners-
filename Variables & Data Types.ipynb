{
 "cells": [
  {
   "cell_type": "code",
   "execution_count": null,
   "id": "e9a8ef85",
   "metadata": {},
   "outputs": [],
   "source": [
    "print('Hello World!')"
   ]
  },
  {
   "cell_type": "code",
   "execution_count": null,
   "id": "198873d3",
   "metadata": {},
   "outputs": [],
   "source": [
    "print(\"-_-\")"
   ]
  },
  {
   "cell_type": "code",
   "execution_count": null,
   "id": "5d038bec",
   "metadata": {},
   "outputs": [],
   "source": [
    "print(\"*\" * 10) #Expressions"
   ]
  },
  {
   "cell_type": "markdown",
   "id": "8569abcf",
   "metadata": {},
   "source": [
    "## 1.Variables & Data Types\n"
   ]
  },
  {
   "cell_type": "code",
   "execution_count": null,
   "id": "41c25987",
   "metadata": {},
   "outputs": [],
   "source": [
    "movie_name = \"Hawa\"  # String\n",
    "\n",
    "released_year = 2022 # int\n",
    "\n",
    "rating = 8.1         # Float\n",
    "\n",
    "is_new = True        # Bool"
   ]
  },
  {
   "cell_type": "markdown",
   "id": "02e44d76",
   "metadata": {},
   "source": [
    "# 2. Receiving input"
   ]
  },
  {
   "cell_type": "code",
   "execution_count": null,
   "id": "0655c190",
   "metadata": {},
   "outputs": [],
   "source": [
    "# Receiving user input using input()\n",
    "usr_input = input(\"What is your name? \")\n",
    "\n",
    "print('Welcome! '+ usr_input) # concatenation, we are concatinating usr_input and \"Welcome!\"\n",
    "\n",
    "# print('Welcome!', usr_input)"
   ]
  },
  {
   "cell_type": "code",
   "execution_count": null,
   "id": "c04db3b7",
   "metadata": {},
   "outputs": [],
   "source": [
    "# Receiving name from user\n",
    "name = input('Please Enter Your Name: \\n')\n",
    "\n",
    "# Receiving user age\n",
    "birth_year = int(input('Please Enter Year Birth Year: \\n'))\n",
    "\n",
    "# Declaring a variable present year \n",
    "present_year = 2022\n",
    "\n",
    "'''Calculating age, we will get the age by Subtracting birth_year \n",
    "from present_year'''\n",
    "\n",
    "age = present_year - birth_year\n",
    "\n",
    "# Printing the output\n",
    "\n",
    "print(name + \" , You are \" + str(age) + \" years old.\")"
   ]
  },
  {
   "cell_type": "markdown",
   "id": "053d847e",
   "metadata": {},
   "source": [
    "## Printing the output"
   ]
  },
  {
   "cell_type": "code",
   "execution_count": null,
   "id": "d10d5fbc",
   "metadata": {},
   "outputs": [],
   "source": [
    "print(name + \" , You are \" + str(age) + \" years old.\")"
   ]
  }
 ],
 "metadata": {
  "kernelspec": {
   "display_name": "Python 3 (ipykernel)",
   "language": "python",
   "name": "python3"
  },
  "language_info": {
   "codemirror_mode": {
    "name": "ipython",
    "version": 3
   },
   "file_extension": ".py",
   "mimetype": "text/x-python",
   "name": "python",
   "nbconvert_exporter": "python",
   "pygments_lexer": "ipython3",
   "version": "3.9.12"
  }
 },
 "nbformat": 4,
 "nbformat_minor": 5
}
